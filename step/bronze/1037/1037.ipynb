{
 "cells": [
  {
   "cell_type": "code",
   "execution_count": null,
   "metadata": {},
   "outputs": [
    {
     "name": "stdout",
     "output_type": "stream",
     "text": [
      "[1, 2, 3, 4, 5]\n",
      "[1, 2, 3, 4, 5]\n",
      "[1, 2, 3, 4, 5]\n",
      "[1, 2, 4, 5]\n",
      "[1, 2, 3, 3, 3, 3]\n",
      "[1, 2, 3, 3, 3]\n",
      "[1, 2, 3, 3]\n",
      "[1, 2, 3]\n",
      "[1, 2]\n"
     ]
    }
   ],
   "source": [
    "a = [1,2,3,4,5]\n",
    "\n",
    "for item in a:\n",
    "    print(a)\n",
    "    if item ==3:\n",
    "        a.remove(item)\n",
    "        # 중간에 리스트를 바꾸므로 모든 원소를 순회화지 않는 문제 발생\n",
    "\n",
    "b = [1,2,3,3,3,3,3]\n",
    "\n",
    "for i in range(5):\n",
    "    b.remove(3)\n",
    "    print(b)\n",
    "        "
   ]
  }
 ],
 "metadata": {
  "kernelspec": {
   "display_name": "base",
   "language": "python",
   "name": "python3"
  },
  "language_info": {
   "codemirror_mode": {
    "name": "ipython",
    "version": 3
   },
   "file_extension": ".py",
   "mimetype": "text/x-python",
   "name": "python",
   "nbconvert_exporter": "python",
   "pygments_lexer": "ipython3",
   "version": "3.12.9"
  }
 },
 "nbformat": 4,
 "nbformat_minor": 2
}
