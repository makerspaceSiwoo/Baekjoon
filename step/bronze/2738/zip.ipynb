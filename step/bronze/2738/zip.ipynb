{
 "cells": [
  {
   "cell_type": "code",
   "execution_count": 1,
   "metadata": {},
   "outputs": [
    {
     "name": "stdout",
     "output_type": "stream",
     "text": [
      "[(1, 'A'), (2, 'B'), (3, 'C')]\n"
     ]
    }
   ],
   "source": [
    "# zip 을 사용해보기\n",
    "numbers = (1,2,3)\n",
    "letters = ('A', 'B', 'C')\n",
    "pairs = list(zip(numbers, letters))\n",
    "print(pairs)"
   ]
  },
  {
   "cell_type": "code",
   "execution_count": null,
   "metadata": {},
   "outputs": [
    {
     "name": "stdout",
     "output_type": "stream",
     "text": [
      "[5, 7, 9]\n"
     ]
    }
   ],
   "source": [
    "#zip 으로 병렬로 리스트를 처리할 수 있다.\n",
    "numbers_a = [1,2,3]\n",
    "numbers_b = [4,5,6]\n",
    "add_numbers = [(a+b) for a,b in zip(numbers_a, numbers_b)]\n",
    "print(add_numbers)"
   ]
  },
  {
   "cell_type": "code",
   "execution_count": null,
   "metadata": {},
   "outputs": [
    {
     "name": "stdout",
     "output_type": "stream",
     "text": [
      "(1, 2, 3)\n",
      "('A', 'B', 'C')\n"
     ]
    }
   ],
   "source": [
    "# 이렇게 unzip 할 수도 있다.\n",
    "numbers_unzip , letters_unzip = zip(*pairs)\n",
    "print(numbers_unzip)\n",
    "print(letters_unzip)"
   ]
  }
 ],
 "metadata": {
  "kernelspec": {
   "display_name": "base",
   "language": "python",
   "name": "python3"
  },
  "language_info": {
   "codemirror_mode": {
    "name": "ipython",
    "version": 3
   },
   "file_extension": ".py",
   "mimetype": "text/x-python",
   "name": "python",
   "nbconvert_exporter": "python",
   "pygments_lexer": "ipython3",
   "version": "3.12.9"
  }
 },
 "nbformat": 4,
 "nbformat_minor": 2
}
