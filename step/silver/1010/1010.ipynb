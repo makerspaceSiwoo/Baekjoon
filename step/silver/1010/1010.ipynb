{
 "cells": [
  {
   "cell_type": "code",
   "execution_count": 7,
   "metadata": {},
   "outputs": [],
   "source": [
    "def permulation(a,b):\n",
    "    re = 1\n",
    "    for i in range(b):\n",
    "        re *= (a-i)\n",
    "    return re\n",
    "\n",
    "def combination(a,b):\n",
    "    if b >= (a//2 + 1):\n",
    "        return combination(a,a-b)\n",
    "    else:\n",
    "        return permulation(a,b) // permulation(b,b)\n",
    "\n"
   ]
  },
  {
   "cell_type": "code",
   "execution_count": 9,
   "metadata": {},
   "outputs": [
    {
     "name": "stdout",
     "output_type": "stream",
     "text": [
      "120\n",
      "60\n",
      "10\n",
      "10\n",
      "67863915\n"
     ]
    }
   ],
   "source": [
    "print(permulation(5,5))\n",
    "print(permulation(5,3))\n",
    "\n",
    "print(combination(5,2))\n",
    "print(combination(5,3))\n",
    "print(combination(29,13))"
   ]
  }
 ],
 "metadata": {
  "kernelspec": {
   "display_name": "base",
   "language": "python",
   "name": "python3"
  },
  "language_info": {
   "codemirror_mode": {
    "name": "ipython",
    "version": 3
   },
   "file_extension": ".py",
   "mimetype": "text/x-python",
   "name": "python",
   "nbconvert_exporter": "python",
   "pygments_lexer": "ipython3",
   "version": "3.12.9"
  }
 },
 "nbformat": 4,
 "nbformat_minor": 2
}
