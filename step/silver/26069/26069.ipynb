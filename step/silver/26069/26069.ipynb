{
 "cells": [
  {
   "cell_type": "code",
   "execution_count": 24,
   "metadata": {},
   "outputs": [
    {
     "name": "stdout",
     "output_type": "stream",
     "text": [
      "['12\\nbnb2011 chansol\\nchansol chogahui05\\nchogahui05 jthis\\n', ' jthis\\njthis jyheo98\\njyheo98 lms0806\\nlms0806 pichulia\\npichulia pjshwa\\npjshwa r4pidstart\\nr4pidstart swoon\\nswoon tony9402\\ntony9402 bnb2011']\n",
      "\n",
      "[' jthis', 'jthis jyheo98', 'jyheo98 lms0806', 'lms0806 pichulia', 'pichulia pjshwa', 'pjshwa r4pidstart', 'r4pidstart swoon', 'swoon tony9402', 'tony9402 bnb2011']\n",
      "{'r4pidstart', 'jyheo98', 'pjshwa', 'tony9402', 'jthis', 'bnb2011', 'swoon', 'pichulia', 'lms0806'}\n"
     ]
    }
   ],
   "source": [
    "a = open('test.txt').read().split(\"ChongChong\")\n",
    "print(a)\n",
    "front = a[0].split('\\n')\n",
    "print(front[-1].strip())\n",
    "\n",
    "back = a[1].split('\\n')\n",
    "print(back)\n",
    "c = set([word for item in back for word in item.split()])\n",
    "\n",
    "print(c)"
   ]
  },
  {
   "cell_type": "code",
   "execution_count": null,
   "metadata": {},
   "outputs": [
    {
     "name": "stdout",
     "output_type": "stream",
     "text": [
      "['12', 'bnb2011 chansol', 'chansol chogahui05', 'chogahui05 jthis', 'ChongChong jthis', 'jthis jyheo98', 'jyheo98 lms0806', 'lms0806 pichulia', 'pichulia pjshwa', 'pjshwa r4pidstart', 'r4pidstart swoon', 'swoon tony9402', 'tony9402 bnb2011']\n",
      "[['12'], ['bnb2011', 'chansol'], ['chansol', 'chogahui05'], ['chogahui05', 'jthis'], ['ChongChong', 'jthis'], ['jthis', 'jyheo98'], ['jyheo98', 'lms0806'], ['lms0806', 'pichulia'], ['pichulia', 'pjshwa'], ['pjshwa', 'r4pidstart'], ['r4pidstart', 'swoon'], ['swoon', 'tony9402'], ['tony9402', 'bnb2011']]\n"
     ]
    },
    {
     "ename": "TypeError",
     "evalue": "unsupported operand type(s) for &: 'set' and 'list'",
     "output_type": "error",
     "traceback": [
      "\u001b[31m---------------------------------------------------------------------------\u001b[39m",
      "\u001b[31mTypeError\u001b[39m                                 Traceback (most recent call last)",
      "\u001b[36mCell\u001b[39m\u001b[36m \u001b[39m\u001b[32mIn[49]\u001b[39m\u001b[32m, line 11\u001b[39m\n\u001b[32m      7\u001b[39m result = \u001b[38;5;28mset\u001b[39m([\u001b[33m'\u001b[39m\u001b[33mChongChong\u001b[39m\u001b[33m'\u001b[39m])\n\u001b[32m     10\u001b[39m \u001b[38;5;28;01mfor\u001b[39;00m B \u001b[38;5;129;01min\u001b[39;00m b:\n\u001b[32m---> \u001b[39m\u001b[32m11\u001b[39m     \u001b[38;5;28;01mif\u001b[39;00m \u001b[43mresult\u001b[49m\u001b[43m \u001b[49m\u001b[43m&\u001b[49m\u001b[43m \u001b[49m\u001b[43mB\u001b[49m:\n\u001b[32m     12\u001b[39m         result.update(B)\n\u001b[32m     14\u001b[39m \u001b[38;5;28mprint\u001b[39m(result)\n",
      "\u001b[31mTypeError\u001b[39m: unsupported operand type(s) for &: 'set' and 'list'"
     ]
    }
   ],
   "source": [
    "a = open('test.txt').read().split('\\n')\n",
    "print(a)\n",
    "\n",
    "b = [item.split() for item in a]\n",
    "print(b)\n",
    "\n",
    "result = set(['ChongChong'])\n",
    "\n",
    "\n",
    "for B in b:\n",
    "    if result & set(B):\n",
    "        result.update(B)\n",
    "        \n",
    "print(result)\n"
   ]
  }
 ],
 "metadata": {
  "kernelspec": {
   "display_name": "base",
   "language": "python",
   "name": "python3"
  },
  "language_info": {
   "codemirror_mode": {
    "name": "ipython",
    "version": 3
   },
   "file_extension": ".py",
   "mimetype": "text/x-python",
   "name": "python",
   "nbconvert_exporter": "python",
   "pygments_lexer": "ipython3",
   "version": "3.12.9"
  }
 },
 "nbformat": 4,
 "nbformat_minor": 2
}
