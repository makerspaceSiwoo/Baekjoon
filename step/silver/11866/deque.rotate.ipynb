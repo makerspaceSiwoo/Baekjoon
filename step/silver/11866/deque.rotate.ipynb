{
 "cells": [
  {
   "cell_type": "code",
   "execution_count": 1,
   "metadata": {},
   "outputs": [
    {
     "name": "stdout",
     "output_type": "stream",
     "text": [
      "deque([4, 5, 1, 2, 3])\n",
      "deque([2, 3, 4, 5, 1])\n"
     ]
    }
   ],
   "source": [
    "from collections import deque\n",
    "\n",
    "dq = deque([1, 2, 3, 4, 5])\n",
    "\n",
    "dq.rotate(2)\n",
    "print(dq)  # deque([4, 5, 1, 2, 3])  → 오른쪽으로 2칸 밀림\n",
    "\n",
    "dq.rotate(-3)\n",
    "print(dq)  # deque([2, 3, 4, 5, 1])  → 왼쪽으로 3칸 밀림\n"
   ]
  }
 ],
 "metadata": {
  "kernelspec": {
   "display_name": "base",
   "language": "python",
   "name": "python3"
  },
  "language_info": {
   "codemirror_mode": {
    "name": "ipython",
    "version": 3
   },
   "file_extension": ".py",
   "mimetype": "text/x-python",
   "name": "python",
   "nbconvert_exporter": "python",
   "pygments_lexer": "ipython3",
   "version": "3.12.9"
  }
 },
 "nbformat": 4,
 "nbformat_minor": 2
}
