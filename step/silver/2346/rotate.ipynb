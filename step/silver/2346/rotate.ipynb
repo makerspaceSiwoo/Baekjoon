{
 "cells": [
  {
   "cell_type": "code",
   "execution_count": null,
   "metadata": {},
   "outputs": [
    {
     "name": "stdout",
     "output_type": "stream",
     "text": [
      "1\n",
      "deque([3, 4, 5, 2])\n"
     ]
    }
   ],
   "source": [
    "from collections import deque\n",
    "\n",
    "\n",
    "\n",
    "a = deque([1,2,3,4,5])\n",
    "\n",
    "# 1번에서 2가 나오면, 3을 터뜨려야 함.\n",
    "print(a.popleft()) # popleft 로 제외해서, 오른쪽으로 1칸 이동한 것과 동일한 효과\n",
    "a.rotate(-(2-1)) # 음수 방향으로 돌려야, 시계 방향으로 이동\n",
    "print(a)\n"
   ]
  }
 ],
 "metadata": {
  "kernelspec": {
   "display_name": "base",
   "language": "python",
   "name": "python3"
  },
  "language_info": {
   "codemirror_mode": {
    "name": "ipython",
    "version": 3
   },
   "file_extension": ".py",
   "mimetype": "text/x-python",
   "name": "python",
   "nbconvert_exporter": "python",
   "pygments_lexer": "ipython3",
   "version": "3.12.9"
  }
 },
 "nbformat": 4,
 "nbformat_minor": 2
}
