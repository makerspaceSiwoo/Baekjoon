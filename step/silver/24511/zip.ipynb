{
 "cells": [
  {
   "cell_type": "code",
   "execution_count": 8,
   "metadata": {},
   "outputs": [
    {
     "name": "stdout",
     "output_type": "stream",
     "text": [
      "[(0, 1), (0, 4)]\n",
      "[deque([1]), deque([4])]\n"
     ]
    }
   ],
   "source": [
    "from collections import deque\n",
    "A = [0,1,1,0]\n",
    "B = [1,2,3,4]\n",
    "\n",
    "filtered = [(a,b) for a,b in zip(A,B) if a == 0]\n",
    "print(filtered)\n",
    "\n",
    "filtered_deque = [deque([b]) for a,b in zip(A,B) if a == 0]\n",
    "print(filtered_deque)"
   ]
  },
  {
   "cell_type": "code",
   "execution_count": 11,
   "metadata": {},
   "outputs": [
    {
     "name": "stdout",
     "output_type": "stream",
     "text": [
      "deque([6, 5, 4, 1, 2, 3])\n"
     ]
    }
   ],
   "source": [
    "C = deque([1,2,3])\n",
    "D = [4,5,6]\n",
    "\n",
    "C.extendleft(D)\n",
    "print(C)"
   ]
  }
 ],
 "metadata": {
  "kernelspec": {
   "display_name": "base",
   "language": "python",
   "name": "python3"
  },
  "language_info": {
   "codemirror_mode": {
    "name": "ipython",
    "version": 3
   },
   "file_extension": ".py",
   "mimetype": "text/x-python",
   "name": "python",
   "nbconvert_exporter": "python",
   "pygments_lexer": "ipython3",
   "version": "3.12.9"
  }
 },
 "nbformat": 4,
 "nbformat_minor": 2
}
